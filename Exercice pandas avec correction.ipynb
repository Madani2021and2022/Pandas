{
 "cells": [
  {
   "cell_type": "markdown",
   "metadata": {},
   "source": [
    "<table width='100%' border='0'>\n",
    "    <tr>\n",
    "        <td><img src='../images/ucd.png' width='120'></td>\n",
    "        <td><img src='../images/dept_inf.png' width='350'></td>\n",
    "        <td><img src='../images/fs.png' width='120'></td>\n",
    "    </tr>\n",
    "</table>"
   ]
  },
  {
   "cell_type": "markdown",
   "metadata": {},
   "source": [
    "# Langage Python : Pratique de pandas\n",
    "\n",
    "Email : <a href='mailto:madani.a@ucd.ac.ma'>madani.a@ucd.ac.ma</a>\n",
    "<img src='../images/python.png' width=\"100\">"
   ]
  },
  {
   "cell_type": "markdown",
   "metadata": {},
   "source": [
    "<ol>\n",
    "<li>Créer un DataFrame à partir du fichier Excel contenant le dataset 'Titanic.xls'\n",
    "<li>Afficher les dimensions du DataFrame\n",
    "<li>Afficher les noms des colonnes\n",
    "<li>Afficher les trois premières lignes du DataFrame\n",
    "<li>Afficher les six dernières lignes du DataFrame\n",
    "<li>Créer un autre DataFrame contenant  seulement 'pclass', 'survived', 'sex' et 'age'\n",
    "<li>Afficher les statistiques de base\n",
    "<li>Jeter un coup d'oeil à la ligne 'count'. Que remarquez-vous ?\n",
    "<li>Afficher les lignes ayant des valeurs manquantes dans l'âge\n",
    "<li>Remplacer les valeurs manquante par une valeur donnée\n",
    "<li>Remplacer les valeurs manquantes par la moyenne\n",
    "<li>Elimner les lignes dans lesquelles il nous manque l'âge\n",
    "<li>Afficher les dimensions\n",
    "<li>Afficher les statistiques\n",
    "<li>Afficher le nombre de personnes de la 1ère, la 2ème et la 3ème classe\n",
    "<li>Représenter sous forme de graphe le nombre de personnes pour chaque classe\n",
    "<li>Représenter sous forme d'histogramme la répartition des âges\n",
    "<li>Regrouper les gens selon leur sexe. Quelle est la moyenne des âges, le pourcentage des survivants de chaque sexe\n",
    "<li>Regrouper les passagers par sexe et par classe. Quel est le pourcentage des survivants par sexe et par classe\n",
    "<li>Changer les index par les noms des passagers\n",
    "<li>Afficher les passagers mineurs\n",
    "<li>Regrouper les passagers mineurs par sexe et par classe.\n",
    "</ol>    "
   ]
  },
  {
   "cell_type": "code",
   "execution_count": null,
   "metadata": {},
   "outputs": [],
   "source": [
    "import pandas as pd\n",
    "import matplotlib.pyplot as plt"
   ]
  },
  {
   "cell_type": "code",
   "execution_count": null,
   "metadata": {},
   "outputs": [],
   "source": [
    "#1. Créer un DataFrame à partir du fichier Excel contenant le dataset 'Titanic.xls'\n",
    "df = pd.read_excel(\"datasets/titanic.xls\")"
   ]
  },
  {
   "cell_type": "code",
   "execution_count": null,
   "metadata": {},
   "outputs": [],
   "source": [
    "#2. Afficher les dimensions du DataFrame\n",
    "df.shape"
   ]
  },
  {
   "cell_type": "code",
   "execution_count": null,
   "metadata": {},
   "outputs": [],
   "source": [
    "#3. Afficher les noms des colonnes\n",
    "df.columns"
   ]
  },
  {
   "cell_type": "code",
   "execution_count": null,
   "metadata": {},
   "outputs": [],
   "source": [
    "#4. Afficher les trois premières lignes du DataFrame\n",
    "df.head(3)"
   ]
  },
  {
   "cell_type": "code",
   "execution_count": null,
   "metadata": {},
   "outputs": [],
   "source": [
    "#5. Afficher les six dernières lignes du DataFrame\n",
    "df.tail(6)"
   ]
  },
  {
   "cell_type": "code",
   "execution_count": null,
   "metadata": {},
   "outputs": [],
   "source": [
    "#6. Créer un autre DataFrame contenant seulement 'pclass', 'survived', 'sex' et 'age'\n",
    "#df[['pclass', 'survived', 'sex' , 'age']]\n",
    "other = df.loc[:,['pclass', 'survived', 'sex' , 'age']]\n",
    "other.head()"
   ]
  },
  {
   "cell_type": "code",
   "execution_count": null,
   "metadata": {},
   "outputs": [],
   "source": [
    "#7. Afficher les statistiques de base\n",
    "other.describe()"
   ]
  },
  {
   "cell_type": "code",
   "execution_count": null,
   "metadata": {},
   "outputs": [],
   "source": [
    "#8. Jeter un coup d'oeil à la ligne 'count'. Que remarquez-vous ?\n",
    "#Les nombres de 'pclass', \"survived\" et \"age\" sont différents, ce qui montre qu'il y a\n",
    "#des valeurs manquantes dans la colonne 'age'"
   ]
  },
  {
   "cell_type": "code",
   "execution_count": null,
   "metadata": {},
   "outputs": [],
   "source": [
    "#9. Afficher les lignes ayant des valeurs manquantes dans l'âge\n",
    "#other[other['age'].isna()].shape\n",
    "#other[other['age'].isna()]['age'].size\n",
    "#other[other['age'].isna()]\n",
    "other[other['age'].isna()][\"age\"]"
   ]
  },
  {
   "cell_type": "code",
   "execution_count": null,
   "metadata": {},
   "outputs": [],
   "source": [
    "#10. Remplacer les valeurs manquante par une valeur donnée\n",
    "another = other.fillna(0)\n",
    "another.describe()"
   ]
  },
  {
   "cell_type": "code",
   "execution_count": null,
   "metadata": {},
   "outputs": [],
   "source": [
    "#11. Remplacer les valeurs manquantes par la moyenne\n",
    "print(\"Moyenne des ages:\",other['age'].mean())\n",
    "another2 = other.fillna(other['age'].mean())\n",
    "another2.head()"
   ]
  },
  {
   "cell_type": "code",
   "execution_count": null,
   "metadata": {},
   "outputs": [],
   "source": [
    "#12. Elimner les lignes dans lesquelles il nous manque l'âge\n",
    "other2=other.dropna()\n",
    "other2.describe()"
   ]
  },
  {
   "cell_type": "code",
   "execution_count": null,
   "metadata": {},
   "outputs": [],
   "source": [
    "#13. Afficher les dimensions\n",
    "other2.shape"
   ]
  },
  {
   "cell_type": "code",
   "execution_count": null,
   "metadata": {},
   "outputs": [],
   "source": [
    "#14. Afficher les statistiques\n",
    "other2.describe()"
   ]
  },
  {
   "cell_type": "code",
   "execution_count": null,
   "metadata": {},
   "outputs": [],
   "source": [
    "#15. Afficher le nombre de personnes de la 1ère, la 2ème et la 3ème classe\n",
    "group = another.groupby(['pclass']).count()\n",
    "group"
   ]
  },
  {
   "cell_type": "code",
   "execution_count": null,
   "metadata": {},
   "outputs": [],
   "source": [
    "#16. Représenter sous forme de graphe le nombre de personnes pour chaque classe\n",
    "Y = group['age']\n",
    "X = group.index\n",
    "plt.bar(X,Y)"
   ]
  },
  {
   "cell_type": "code",
   "execution_count": null,
   "metadata": {},
   "outputs": [],
   "source": [
    "#16\n",
    "another3 = another['pclass'].value_counts()\n",
    "another3"
   ]
  },
  {
   "cell_type": "code",
   "execution_count": null,
   "metadata": {},
   "outputs": [],
   "source": [
    "another3.plot.bar()"
   ]
  },
  {
   "cell_type": "code",
   "execution_count": null,
   "metadata": {},
   "outputs": [],
   "source": [
    "#17. Représenter sous forme d'histogramme la répartition des âges\n",
    "another4 = another['age'].value_counts()\n",
    "another4.plot.bar()"
   ]
  },
  {
   "cell_type": "code",
   "execution_count": null,
   "metadata": {},
   "outputs": [],
   "source": [
    "#18. Regrouper les gens selon leur sexe. \n",
    "#Quelle est la moyenne des âges, le pourcentage des survivants de chaque sexe\n",
    "other.groupby(['sex']).mean()\n",
    "#Moyenne des âges : 28,68 pour les femmes et 30,58 pour les hommes\n",
    "#%des survivants : 72%des hommes et 19%de femmes"
   ]
  },
  {
   "cell_type": "code",
   "execution_count": null,
   "metadata": {},
   "outputs": [],
   "source": [
    "#19. Regrouper les passagers par sexe et par classe. \n",
    "#Quel est le pourcentage des survivants par sexe et par classe\n",
    "other.groupby(['sex','pclass']).mean()"
   ]
  },
  {
   "cell_type": "code",
   "execution_count": null,
   "metadata": {},
   "outputs": [],
   "source": [
    "#20. Changer les index par les noms des passagers\n",
    "another5 = df.set_index('name')\n",
    "another5.head(2)"
   ]
  },
  {
   "cell_type": "code",
   "execution_count": null,
   "metadata": {},
   "outputs": [],
   "source": [
    "#21. Afficher les passagers mineurs\n",
    "other[other['age']<18]"
   ]
  },
  {
   "cell_type": "code",
   "execution_count": null,
   "metadata": {},
   "outputs": [],
   "source": [
    "#22. Regrouper les passagers mineurs par sexe et par classe.\n",
    "another6 = other[other['age']<18].groupby(['sex','pclass']).count()\n",
    "another6"
   ]
  }
 ],
 "metadata": {
  "kernelspec": {
   "display_name": "Python 3",
   "language": "python",
   "name": "python3"
  },
  "language_info": {
   "codemirror_mode": {
    "name": "ipython",
    "version": 3
   },
   "file_extension": ".py",
   "mimetype": "text/x-python",
   "name": "python",
   "nbconvert_exporter": "python",
   "pygments_lexer": "ipython3",
   "version": "3.8.3"
  }
 },
 "nbformat": 4,
 "nbformat_minor": 4
}
