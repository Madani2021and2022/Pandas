{
 "cells": [
  {
   "cell_type": "markdown",
   "metadata": {},
   "source": [
    "# Initiation à Pandas - Les séries -\n",
    "\n",
    "Email : <a href='mailto:madani.a@ucd.ac.ma'>madani.a@ucd.ac.ma</a>\n",
    "<img src='images/pandas.jpg'>"
   ]
  },
  {
   "cell_type": "markdown",
   "metadata": {},
   "source": [
    "## Introduction\n",
    "<p>\n",
    "Pandas est une librairie python qui permet de manipuler facilement des données à analyser :\n",
    "<ul>\n",
    "<li>manipuler des tableaux de données avec des étiquettes de variables (colonnes) et d'individus (lignes).\n",
    "<li>ces tableaux sont appelés DataFrames.\n",
    "<li>on peut facilement lire et écrire ces dataframes à partir ou vers un fichier tabulé.\n",
    "<li>on peut faciler tracer des graphes à partir de ces DataFrames grâce à matplotlib.\n",
    "</ul>\n",
    "</p>\n",
    "<p>\n",
    "Pour utiliser pandas : <strong>import pandas</strong>\n",
    "</p>"
   ]
  },
  {
   "cell_type": "markdown",
   "metadata": {},
   "source": [
    "## Création de séries\n",
    "<p>\n",
    "Une Series est un objet uni-dimensionnel similaire à un tableau, une liste ou une colonne d’une table. Chaque valeur est associée à un index qui est par défaut les entiers de 0 à N-1 (avec N la longueur de la Series).\n",
    "</p>\n",
    "<p>\n",
    "Une série est donc un vecteur de valeurs d'une variable (en général des valeurs pour différents individus) :\n",
    "</p>"
   ]
  },
  {
   "cell_type": "markdown",
   "metadata": {},
   "source": [
    "<b>Création d'une série vide</b>"
   ]
  },
  {
   "cell_type": "code",
   "execution_count": 4,
   "metadata": {},
   "outputs": [
    {
     "name": "stdout",
     "output_type": "stream",
     "text": [
      "Series([], dtype: uint8)\n"
     ]
    }
   ],
   "source": [
    "import pandas as pd\n",
    "s = pd.Series() #Création d'une série vide\n",
    "print(s)"
   ]
  },
  {
   "cell_type": "markdown",
   "metadata": {},
   "source": [
    "<b>Création d'une série à partir d'un scalaire (constante)</b>"
   ]
  },
  {
   "cell_type": "code",
   "execution_count": 1,
   "metadata": {},
   "outputs": [
    {
     "name": "stdout",
     "output_type": "stream",
     "text": [
      "0    5\n",
      "dtype: int64\n",
      "a    5\n",
      "b    5\n",
      "c    5\n",
      "dtype: int64\n"
     ]
    }
   ],
   "source": [
    "import pandas as pd\n",
    "s1 = pd.Series(5)\n",
    "s2 = pd.Series(5, index=['a', 'b', 'c']) #Création d'une série à partir d'un scalaire (constante)\n",
    "print(s1)\n",
    "print(s2)"
   ]
  },
  {
   "cell_type": "markdown",
   "metadata": {},
   "source": [
    "<b>Création d'une série numérique entière</b>"
   ]
  },
  {
   "cell_type": "code",
   "execution_count": 13,
   "metadata": {},
   "outputs": [
    {
     "name": "stdout",
     "output_type": "stream",
     "text": [
      "0    11\n",
      "1    20\n",
      "2    51\n",
      "3    17\n",
      "dtype: int64\n",
      "ElJadida    11\n",
      "Casa        20\n",
      "Rabat       51\n",
      "Fes         17\n",
      "dtype: int64\n"
     ]
    }
   ],
   "source": [
    "import pandas\n",
    "s1 = pandas.Series([11, 20, 51, 17]) # série numérique entière.\n",
    "s2 = pandas.Series([11, 20, 51, 17], index=['ElJadida','Casa','Rabat','Fes']) # série numérique entière.\n",
    "print(s1)\n",
    "print(s2)"
   ]
  },
  {
   "cell_type": "markdown",
   "metadata": {},
   "source": [
    "<b>Création d'une série numérique flottante</b>"
   ]
  },
  {
   "cell_type": "code",
   "execution_count": 7,
   "metadata": {},
   "outputs": [
    {
     "name": "stdout",
     "output_type": "stream",
     "text": [
      "0     1.3\n",
      "1     2.0\n",
      "2     5.3\n",
      "3    17.0\n",
      "dtype: float64\n"
     ]
    }
   ],
   "source": [
    "import pandas as pd\n",
    "s = pd.Series([1.3, 2, 5.3, 17]) # série numérique flottante.\n",
    "print(s)"
   ]
  },
  {
   "cell_type": "code",
   "execution_count": 8,
   "metadata": {},
   "outputs": [
    {
     "name": "stdout",
     "output_type": "stream",
     "text": [
      "0    1.0\n",
      "1    2.0\n",
      "2    5.0\n",
      "3    7.0\n",
      "dtype: float64\n"
     ]
    }
   ],
   "source": [
    "import pandas as pd\n",
    "s = pd.Series([1, 2, 5, 7], dtype = float) # série numérique flottante.\n",
    "print(s)"
   ]
  },
  {
   "cell_type": "markdown",
   "metadata": {},
   "source": [
    "## Obtenir la taille d'une série\n",
    "<p>\n",
    "On peut obtenir la taille d'une série avec la fonction len() ou la propriété size\n",
    "</p>"
   ]
  },
  {
   "cell_type": "code",
   "execution_count": 11,
   "metadata": {},
   "outputs": [
    {
     "name": "stdout",
     "output_type": "stream",
     "text": [
      "4\n",
      "4\n"
     ]
    }
   ],
   "source": [
    "print(len(s))\n",
    "print(s.size)"
   ]
  },
  {
   "cell_type": "markdown",
   "metadata": {},
   "source": [
    "## Index d'une série\n",
    "<p>\n",
    "L'index est le nom affecté à chaque valeur d'une série. Par défaut, les index sont des entiers 0, ..., N-1 (N est la taille de la série). On peut aussi préciser les indices lors de la création de la série.\n",
    "</p>"
   ]
  },
  {
   "cell_type": "code",
   "execution_count": 15,
   "metadata": {},
   "outputs": [
    {
     "name": "stdout",
     "output_type": "stream",
     "text": [
      "a     1.3\n",
      "b     2.0\n",
      "c     5.3\n",
      "d    17.0\n",
      "dtype: float64\n"
     ]
    }
   ],
   "source": [
    "import pandas as pd\n",
    "s=pd.Series([1.3, 2, 5.3, 17], index=['a', 'b', 'c', 'd'])\n",
    "print(s)"
   ]
  },
  {
   "cell_type": "markdown",
   "metadata": {},
   "source": [
    "On peut utiliser aussi une autre façon pour affecter des index. Cette méthode permet de créer une série à partir d'un dictionnaire."
   ]
  },
  {
   "cell_type": "code",
   "execution_count": 18,
   "metadata": {},
   "outputs": [
    {
     "data": {
      "text/plain": [
       "a    1\n",
       "b    2\n",
       "c    5\n",
       "d    7\n",
       "dtype: int64"
      ]
     },
     "execution_count": 18,
     "metadata": {},
     "output_type": "execute_result"
    }
   ],
   "source": [
    "pandas.Series({'a': 1, 'b': 2, 'c': 5, 'd': 7}) "
   ]
  },
  {
   "cell_type": "markdown",
   "metadata": {},
   "source": [
    "Par défaut, les index d'une série est [0, ..., n-1]"
   ]
  },
  {
   "cell_type": "code",
   "execution_count": 2,
   "metadata": {},
   "outputs": [
    {
     "name": "stdout",
     "output_type": "stream",
     "text": [
      "0     1.3\n",
      "1     2.0\n",
      "2     5.3\n",
      "3    17.0\n",
      "dtype: float64\n"
     ]
    }
   ],
   "source": [
    "import pandas as pd\n",
    "s=pd.Series([1.3, 2, 5.3, 17])\n",
    "print(s)"
   ]
  },
  {
   "cell_type": "markdown",
   "metadata": {},
   "source": [
    "## Accès aux éléments d'un série\n",
    "<p>\n",
    "Les données d'une série sont accessibles de différentes manières.\n",
    "</p>\n",
    "<p>\n",
    "l'accès en utilisant la position se fait de la même manière que les tableaux :\n",
    "</p>"
   ]
  },
  {
   "cell_type": "code",
   "execution_count": 6,
   "metadata": {},
   "outputs": [
    {
     "name": "stdout",
     "output_type": "stream",
     "text": [
      "1 1\n"
     ]
    }
   ],
   "source": [
    "import pandas as pd\n",
    "s = pd.Series([1,2,3,4,5],index = ['a','b','c','d','e'])\n",
    "#Accès au premier élément\n",
    "print (s[0], s['a'])"
   ]
  },
  {
   "cell_type": "code",
   "execution_count": 7,
   "metadata": {},
   "outputs": [
    {
     "name": "stdout",
     "output_type": "stream",
     "text": [
      "f    10\n",
      "b     2\n",
      "c    13\n",
      "dtype: int64\n",
      "f    10\n",
      "b     2\n",
      "c    13\n",
      "dtype: int64\n"
     ]
    }
   ],
   "source": [
    "import pandas as pd\n",
    "s = pd.Series([10,2,13,45,5],index = ['f','b','c','d','e'])\n",
    "\n",
    "#Récupère les trois premiers éléments\n",
    "print (s[:3])\n",
    "print(s[:'c'])"
   ]
  },
  {
   "cell_type": "code",
   "execution_count": 16,
   "metadata": {},
   "outputs": [
    {
     "name": "stdout",
     "output_type": "stream",
     "text": [
      "c    3\n",
      "d    4\n",
      "e    5\n",
      "dtype: int64\n"
     ]
    }
   ],
   "source": [
    "import pandas as pd\n",
    "s = pd.Series([1,2,3,4,5],index = ['a','b','c','d','e'])\n",
    "\n",
    "#Récupère les trois derniers éléments\n",
    "print (s[-3:])"
   ]
  },
  {
   "cell_type": "markdown",
   "metadata": {},
   "source": [
    "Une série est comme un dictionnaire de taille fixe en ce sens que vous pouvez obtenir et définir des valeurs de la série par étiquette d'index."
   ]
  },
  {
   "cell_type": "code",
   "execution_count": 17,
   "metadata": {},
   "outputs": [
    {
     "name": "stdout",
     "output_type": "stream",
     "text": [
      "1\n"
     ]
    }
   ],
   "source": [
    "import pandas as pd\n",
    "s = pd.Series([1,2,3,4,5],index = ['a','b','c','d','e'])\n",
    "\n",
    "#Récupère l'élément qui correspond à l'index 'a'\n",
    "print (s['a'])"
   ]
  },
  {
   "cell_type": "code",
   "execution_count": 19,
   "metadata": {},
   "outputs": [
    {
     "name": "stdout",
     "output_type": "stream",
     "text": [
      "a    1\n",
      "c    3\n",
      "d    4\n",
      "dtype: int64\n"
     ]
    }
   ],
   "source": [
    "import pandas as pd\n",
    "s = pd.Series([1,2,3,4,5],index = ['a','b','c','d','e'])\n",
    "\n",
    "#Récupère plusieurs éléments\n",
    "print(s[['a','c','d']])"
   ]
  },
  {
   "cell_type": "markdown",
   "metadata": {},
   "source": [
    "## Opérations sur des séries\n",
    "<p>\n",
    "On peut utiliser des opérations sur des séries, comme sur les array numpy \n",
    "</p>"
   ]
  },
  {
   "cell_type": "code",
   "execution_count": 10,
   "metadata": {},
   "outputs": [
    {
     "name": "stdout",
     "output_type": "stream",
     "text": [
      "0    11.3\n",
      "1    22.0\n",
      "2    35.3\n",
      "3    57.0\n",
      "dtype: float64\n",
      "0     13.0\n",
      "1     40.0\n",
      "2    159.0\n",
      "3    680.0\n",
      "dtype: float64\n",
      "0    101.3\n",
      "1    102.0\n",
      "2    105.3\n",
      "3    117.0\n",
      "dtype: float64\n"
     ]
    }
   ],
   "source": [
    "import pandas as pd\n",
    "s1=pd.Series([1.3, 2, 5.3, 17])\n",
    "s2=pd.Series([10, 20, 30, 40])\n",
    "print(s1+s2)\n",
    "print(s1*s2)\n",
    "print(s1+100)"
   ]
  },
  {
   "cell_type": "markdown",
   "metadata": {},
   "source": [
    "## Quelques Méthodes\n",
    "<p>\n",
    "On peut aussi utiliser les méthodes offertes (voir <a href=\"https://pandas.pydata.org/pandas-docs/stable/generated/pandas.Series.html\">Liens</a>) : abs(), add(), between(), ...\n",
    "</p>"
   ]
  },
  {
   "cell_type": "code",
   "execution_count": 22,
   "metadata": {},
   "outputs": [
    {
     "name": "stdout",
     "output_type": "stream",
     "text": [
      "0     1.3\n",
      "1     2.0\n",
      "2     5.3\n",
      "3    17.0\n",
      "dtype: float64\n"
     ]
    }
   ],
   "source": [
    "import pandas as pd\n",
    "s=pd.Series([1.3, -2, 5.3, 17])\n",
    "#les valeurs absolues\n",
    "print(s.abs())"
   ]
  },
  {
   "cell_type": "code",
   "execution_count": 23,
   "metadata": {},
   "outputs": [
    {
     "name": "stdout",
     "output_type": "stream",
     "text": [
      "0    11.3\n",
      "1    22.0\n",
      "2    35.3\n",
      "3    57.0\n",
      "dtype: float64\n"
     ]
    }
   ],
   "source": [
    "import pandas as pd\n",
    "s1=pd.Series([1.3, 2, 5.3, 17])\n",
    "s2=pd.Series([10, 20, 30, 40])\n",
    "#La somme de deux matrices\n",
    "print(s1.add(s2))"
   ]
  },
  {
   "cell_type": "code",
   "execution_count": 25,
   "metadata": {},
   "outputs": [
    {
     "name": "stdout",
     "output_type": "stream",
     "text": [
      "0    False\n",
      "1    False\n",
      "2     True\n",
      "3    False\n",
      "dtype: bool\n"
     ]
    }
   ],
   "source": [
    "import pandas as pd\n",
    "s=pd.Series([1.3, 2, 5.3, 17])\n",
    "#Les valeurs comprises entre 5 et 10\n",
    "print(s.between(5, 10))"
   ]
  },
  {
   "cell_type": "code",
   "execution_count": 29,
   "metadata": {},
   "outputs": [
    {
     "name": "stdout",
     "output_type": "stream",
     "text": [
      "0     13.0\n",
      "1     40.0\n",
      "2    159.0\n",
      "3    680.0\n",
      "dtype: float64\n",
      "892.0\n"
     ]
    }
   ],
   "source": [
    "import pandas as pd\n",
    "s1=pd.Series([1.3, 2, 5.3, 17])\n",
    "s2=pd.Series([10, 20, 30, 40])\n",
    "#Produit éléments par élément\n",
    "print(s1*s2)\n",
    "#Produit de deux vecteurs\n",
    "print(s1.dot(s2))"
   ]
  },
  {
   "cell_type": "code",
   "execution_count": 3,
   "metadata": {},
   "outputs": [
    {
     "name": "stdout",
     "output_type": "stream",
     "text": [
      "0    False\n",
      "1    False\n",
      "2     True\n",
      "3    False\n",
      "4     True\n",
      "5     True\n",
      "dtype: bool\n"
     ]
    }
   ],
   "source": [
    "import pandas as pd\n",
    "s=pd.Series([1.3, 2, 1.3, 17, 17, 17])\n",
    "#Les valeurs redondantes\n",
    "print(s.duplicated())"
   ]
  },
  {
   "cell_type": "code",
   "execution_count": 2,
   "metadata": {},
   "outputs": [
    {
     "name": "stdout",
     "output_type": "stream",
     "text": [
      "0     1.3\n",
      "1     2.0\n",
      "3    17.0\n",
      "dtype: float64\n"
     ]
    }
   ],
   "source": [
    "import pandas as pd\n",
    "s=pd.Series([1.3, 2, 1.3, 17,17,17])\n",
    "#Eliminer les valeurs redondantes\n",
    "print(s.drop_duplicates())"
   ]
  }
 ],
 "metadata": {
  "kernelspec": {
   "display_name": "Python 3",
   "language": "python",
   "name": "python3"
  },
  "language_info": {
   "codemirror_mode": {
    "name": "ipython",
    "version": 3
   },
   "file_extension": ".py",
   "mimetype": "text/x-python",
   "name": "python",
   "nbconvert_exporter": "python",
   "pygments_lexer": "ipython3",
   "version": "3.8.3"
  }
 },
 "nbformat": 4,
 "nbformat_minor": 2
}
